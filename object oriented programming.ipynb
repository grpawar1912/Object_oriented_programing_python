{
 "cells": [
  {
   "cell_type": "raw",
   "id": "15313e21",
   "metadata": {},
   "source": [
    "six pillars of opps:\n",
    "    object\n",
    "    class\n",
    "    polymorphism\n",
    "    abstraction\n",
    "    inheritance\n",
    "    encapsulation\n",
    "    "
   ]
  },
  {
   "cell_type": "code",
   "execution_count": null,
   "id": "8aa7340f",
   "metadata": {},
   "outputs": [],
   "source": []
  },
  {
   "cell_type": "raw",
   "id": "f00ad29e",
   "metadata": {},
   "source": [
    "object:\n",
    "    it is real time entity(exists in real time)\n",
    "    ex.classroom,fan,laptop\n",
    "    \n",
    "class:\n",
    "    is a blueprint/template/instance of object\n",
    "    ex.refrigerator =object , structure of refrigerator\n",
    "    (doors,containers etc) is class\n",
    "    \n",
    "class=attributes+methods\n",
    "\n",
    "attributes define features and characteristics\n",
    "method is function which actions you can perform on objects(verbs)"
   ]
  },
  {
   "cell_type": "raw",
   "id": "77aa0abc",
   "metadata": {},
   "source": [
    "encapsulation: binding up data and method together  \n",
    "    ex. capsule:binding various chemical into one capsule "
   ]
  },
  {
   "cell_type": "raw",
   "id": "87f9a529",
   "metadata": {},
   "source": [
    "abstraction: hidding unnecessary information\n",
    "    showing important info\n",
    "    ex. airconditioner : we cannot see mechanism but only see the cool air, all builtin function"
   ]
  },
  {
   "cell_type": "raw",
   "id": "0acb9ae9",
   "metadata": {},
   "source": [
    "polymorphism: poly: many, morphism: forms\n",
    "            +:used for addition,concatenation\n",
    "            * : multiplication, repeatation\n",
    "                "
   ]
  },
  {
   "cell_type": "raw",
   "id": "75363809",
   "metadata": {},
   "source": [
    "inheritance:  inherits the properties of parent class\n",
    "    ex. property distribution: inherits the property of parent by the \n",
    "        child\n",
    "        \n",
    "types of in heritance:\n",
    "    1.single :\n",
    "        parent-->child\n",
    "    2.multi level inheritance:\n",
    "        parentA  +  parentB -->child c\n",
    "        binding up data and methods together\n",
    "    3.heirarchical\n",
    "    parenta=child 1 and child 2"
   ]
  },
  {
   "cell_type": "markdown",
   "id": "33bd905f",
   "metadata": {},
   "source": [
    "# Class"
   ]
  },
  {
   "cell_type": "code",
   "execution_count": null,
   "id": "e734afd3",
   "metadata": {},
   "outputs": [],
   "source": []
  },
  {
   "cell_type": "code",
   "execution_count": null,
   "id": "fe898938",
   "metadata": {},
   "outputs": [],
   "source": []
  },
  {
   "cell_type": "markdown",
   "id": "2c1fe66c",
   "metadata": {},
   "source": [
    "# static data"
   ]
  },
  {
   "cell_type": "code",
   "execution_count": 1,
   "id": "a64e24b5",
   "metadata": {},
   "outputs": [],
   "source": [
    "class Student:\n",
    "    name=\"abc\"\n",
    "    age=23\n",
    "    gender=\"female\"\n",
    "    \n",
    "    \n",
    "    def info(self):\n",
    "        print(\"name is \",self.name)\n",
    "        print(\"age is\", self.age)\n",
    "        print(\"gender is\",self.gender)\n",
    "        \n",
    "    def info1(self):\n",
    "        self.address=input(\"enter address :\")\n",
    "        self.course=input(\"enter course name :\")\n",
    "    \n",
    "    def disp(self):\n",
    "        print(\"my info is\")\n",
    "        print(self.name)\n",
    "        print(self.age)\n",
    "        print(self.gender)\n",
    "        print(self.address)\n",
    "        print(self.course)\n",
    "\n",
    "s=Student()\n"
   ]
  },
  {
   "cell_type": "code",
   "execution_count": 2,
   "id": "af774c05",
   "metadata": {},
   "outputs": [
    {
     "name": "stdout",
     "output_type": "stream",
     "text": [
      "name is  abc\n",
      "age is 23\n",
      "gender is female\n"
     ]
    }
   ],
   "source": [
    "s.info()"
   ]
  },
  {
   "cell_type": "code",
   "execution_count": 4,
   "id": "3f4a6231",
   "metadata": {},
   "outputs": [
    {
     "name": "stdout",
     "output_type": "stream",
     "text": [
      "enter address :Plot no. 16 gat no.40 joshi nagar ,osmanabad\n",
      "enter course name :Master in datascience\n"
     ]
    }
   ],
   "source": [
    "s.info1()"
   ]
  },
  {
   "cell_type": "code",
   "execution_count": 5,
   "id": "6f0e4213",
   "metadata": {},
   "outputs": [
    {
     "name": "stdout",
     "output_type": "stream",
     "text": [
      "my info is\n",
      "abc\n",
      "23\n",
      "female\n",
      "Plot no. 16 gat no.40 joshi nagar ,osmanabad\n",
      "Master in datascience\n"
     ]
    }
   ],
   "source": [
    "s.disp()"
   ]
  },
  {
   "cell_type": "markdown",
   "id": "c7d194da",
   "metadata": {},
   "source": [
    "# constructor"
   ]
  },
  {
   "cell_type": "raw",
   "id": "f7eff4b9",
   "metadata": {},
   "source": [
    "__init__"
   ]
  },
  {
   "cell_type": "code",
   "execution_count": 7,
   "id": "15f38aa0",
   "metadata": {},
   "outputs": [
    {
     "name": "stdout",
     "output_type": "stream",
     "text": [
      "hello\n"
     ]
    }
   ],
   "source": [
    "class Abc:\n",
    "    def __init__(self):\n",
    "        print(\"hello\")\n",
    "        \n",
    "a=Abc()"
   ]
  },
  {
   "cell_type": "code",
   "execution_count": 11,
   "id": "9159fd70",
   "metadata": {},
   "outputs": [],
   "source": [
    "class Student:\n",
    "    def __init__(self,name,age,marks):\n",
    "        self.name=name\n",
    "        self.age=age\n",
    "        self.marks=marks\n",
    "        \n",
    "    def disp(self):\n",
    "        print(\"name is \",self.name)\n",
    "        print(\"age is \",self.age)\n",
    "        print(\"marks is \",self.marks)\n",
    "        \n",
    "st=Student(\"gayu\",34,89)"
   ]
  },
  {
   "cell_type": "code",
   "execution_count": 12,
   "id": "337bdf5c",
   "metadata": {},
   "outputs": [
    {
     "name": "stdout",
     "output_type": "stream",
     "text": [
      "name is  gayu\n",
      "age is  34\n",
      "marks is  89\n"
     ]
    }
   ],
   "source": [
    "st.disp()"
   ]
  },
  {
   "cell_type": "raw",
   "id": "c4274f73",
   "metadata": {},
   "source": [
    "self:is a required argument"
   ]
  },
  {
   "cell_type": "markdown",
   "id": "431b976a",
   "metadata": {},
   "source": [
    "# Encapsulation"
   ]
  },
  {
   "cell_type": "code",
   "execution_count": 14,
   "id": "a86f0d14",
   "metadata": {},
   "outputs": [],
   "source": [
    "class Customer:\n",
    "    def cs(self):\n",
    "        self.product=input(\"enter product name: \")\n",
    "        self.price=input(\"enter price of product: \")\n",
    "        \n",
    "c=Customer()\n"
   ]
  },
  {
   "cell_type": "code",
   "execution_count": 15,
   "id": "f6ebde2a",
   "metadata": {},
   "outputs": [
    {
     "name": "stdout",
     "output_type": "stream",
     "text": [
      "enter product name: laptop\n",
      "enter price of product: 75000\n"
     ]
    }
   ],
   "source": [
    "c.cs()"
   ]
  },
  {
   "cell_type": "markdown",
   "id": "325ffd8d",
   "metadata": {},
   "source": [
    "# Abstraction"
   ]
  },
  {
   "cell_type": "code",
   "execution_count": 16,
   "id": "abcb3b51",
   "metadata": {},
   "outputs": [
    {
     "name": "stdout",
     "output_type": "stream",
     "text": [
      "hello\n"
     ]
    }
   ],
   "source": [
    "print(\"hello\")  #print is function "
   ]
  },
  {
   "cell_type": "code",
   "execution_count": 17,
   "id": "f9b20726",
   "metadata": {},
   "outputs": [
    {
     "name": "stdout",
     "output_type": "stream",
     "text": [
      "10\n"
     ]
    }
   ],
   "source": [
    "l=[1,2,3,4]\n",
    "print(sum(l))"
   ]
  },
  {
   "cell_type": "markdown",
   "id": "47f8fdc7",
   "metadata": {},
   "source": [
    "# Polymorphism"
   ]
  },
  {
   "cell_type": "code",
   "execution_count": 27,
   "id": "7a1264f1",
   "metadata": {},
   "outputs": [
    {
     "name": "stdout",
     "output_type": "stream",
     "text": [
      "abcxyz\n",
      "30\n",
      "abcabc\n"
     ]
    },
    {
     "data": {
      "text/plain": [
       "20"
      ]
     },
     "execution_count": 27,
     "metadata": {},
     "output_type": "execute_result"
    }
   ],
   "source": [
    "s=\"abc\"\n",
    "v=\"xyz\"\n",
    "print(s+v)\n",
    "a=10+20\n",
    "print(a)\n",
    "print(s*2)\n",
    "10*2"
   ]
  },
  {
   "cell_type": "markdown",
   "id": "edf35ed4",
   "metadata": {},
   "source": [
    "# inheritance\n"
   ]
  },
  {
   "cell_type": "markdown",
   "id": "a1340563",
   "metadata": {},
   "source": [
    "### 1. single inheritance"
   ]
  },
  {
   "cell_type": "code",
   "execution_count": 31,
   "id": "34398054",
   "metadata": {},
   "outputs": [],
   "source": [
    "class A:\n",
    "    def geta(self):\n",
    "        self.a=int(input(\"enter a value of a: \"))\n",
    "        \n",
    "class B(A):\n",
    "    def getb(self):\n",
    "        self.b=int(input(\"enter a value of b: \"))\n",
    "        \n",
    "    def add(self):\n",
    "        print(\"addition is : \",self.a+self.b)\n"
   ]
  },
  {
   "cell_type": "code",
   "execution_count": 32,
   "id": "525dbd0b",
   "metadata": {},
   "outputs": [],
   "source": [
    "b=B()"
   ]
  },
  {
   "cell_type": "code",
   "execution_count": 33,
   "id": "7db16c4e",
   "metadata": {},
   "outputs": [
    {
     "name": "stdout",
     "output_type": "stream",
     "text": [
      "enter a value of a: 32\n"
     ]
    }
   ],
   "source": [
    "b.geta()"
   ]
  },
  {
   "cell_type": "code",
   "execution_count": 34,
   "id": "3695a9d7",
   "metadata": {},
   "outputs": [
    {
     "name": "stdout",
     "output_type": "stream",
     "text": [
      "enter a value of b: 22\n"
     ]
    }
   ],
   "source": [
    "b.getb()"
   ]
  },
  {
   "cell_type": "code",
   "execution_count": 35,
   "id": "18a0a10f",
   "metadata": {},
   "outputs": [
    {
     "name": "stdout",
     "output_type": "stream",
     "text": [
      "addition is :  54\n"
     ]
    }
   ],
   "source": [
    "b.add()"
   ]
  },
  {
   "cell_type": "code",
   "execution_count": 38,
   "id": "882fa798",
   "metadata": {},
   "outputs": [
    {
     "name": "stdout",
     "output_type": "stream",
     "text": [
      "enter a value of a: 23\n"
     ]
    }
   ],
   "source": [
    "c=A()\n",
    "c.geta()\n"
   ]
  },
  {
   "cell_type": "code",
   "execution_count": 39,
   "id": "b2eb3319",
   "metadata": {},
   "outputs": [
    {
     "ename": "AttributeError",
     "evalue": "'A' object has no attribute 'getb'",
     "output_type": "error",
     "traceback": [
      "\u001b[1;31m---------------------------------------------------------------------------\u001b[0m",
      "\u001b[1;31mAttributeError\u001b[0m                            Traceback (most recent call last)",
      "Cell \u001b[1;32mIn[39], line 1\u001b[0m\n\u001b[1;32m----> 1\u001b[0m c\u001b[38;5;241m.\u001b[39mgetb()\n",
      "\u001b[1;31mAttributeError\u001b[0m: 'A' object has no attribute 'getb'"
     ]
    }
   ],
   "source": [
    "c.getb()   # this error we getting because in single inheritance the class A does not inherit the another class B()property\n"
   ]
  },
  {
   "cell_type": "markdown",
   "id": "b2813ef1",
   "metadata": {},
   "source": [
    "## 2.multilevel inheritance"
   ]
  },
  {
   "cell_type": "code",
   "execution_count": 40,
   "id": "0af66718",
   "metadata": {},
   "outputs": [],
   "source": [
    "class A:\n",
    "    def geta(self):\n",
    "        self.a=int(input(\"enter a value of a:\"))\n",
    "class B(A):\n",
    "    def getb(self):\n",
    "        self.b=int(input(\"enter a value of b :\"))\n",
    "\n",
    "class C(B):\n",
    "    def getc(self):\n",
    "        self.c=int(input(\"enter value of c: \"))\n",
    "        \n",
    "    def add(self):\n",
    "        print(\"addition is \",self.a+self.b+self.c)\n",
    "        print(\"value of b is: \",self.b)\n",
    "        \n",
    "        \n",
    "c=C()"
   ]
  },
  {
   "cell_type": "code",
   "execution_count": 41,
   "id": "8e8f5dcf",
   "metadata": {},
   "outputs": [
    {
     "name": "stdout",
     "output_type": "stream",
     "text": [
      "enter a value of a:22\n"
     ]
    }
   ],
   "source": [
    "c.geta()"
   ]
  },
  {
   "cell_type": "code",
   "execution_count": 42,
   "id": "4f3170fa",
   "metadata": {},
   "outputs": [
    {
     "name": "stdout",
     "output_type": "stream",
     "text": [
      "enter a value of b :20\n"
     ]
    }
   ],
   "source": [
    "c.getb()"
   ]
  },
  {
   "cell_type": "code",
   "execution_count": 43,
   "id": "149d3627",
   "metadata": {},
   "outputs": [
    {
     "name": "stdout",
     "output_type": "stream",
     "text": [
      "enter value of c: 20\n"
     ]
    }
   ],
   "source": [
    "c.getc()"
   ]
  },
  {
   "cell_type": "code",
   "execution_count": 44,
   "id": "2712a9a4",
   "metadata": {},
   "outputs": [
    {
     "name": "stdout",
     "output_type": "stream",
     "text": [
      "addition is  62\n",
      "value of b is:  20\n"
     ]
    }
   ],
   "source": [
    "c.add()"
   ]
  },
  {
   "cell_type": "markdown",
   "id": "eb59b22c",
   "metadata": {},
   "source": [
    "## 3.Multiple inheritance"
   ]
  },
  {
   "cell_type": "code",
   "execution_count": 49,
   "id": "41c6f9b8",
   "metadata": {},
   "outputs": [],
   "source": [
    "class A:\n",
    "    def geta(self):\n",
    "        self.a=int(input(\"enter a value of a:\"))\n",
    "class B:\n",
    "    def getb(self):\n",
    "        self.b=int(input(\"enter a value of b :\"))\n",
    "\n",
    "class C(A,B):\n",
    "    def getc(self):\n",
    "        self.c=int(input(\"enter value of c: \"))\n",
    "        \n",
    "    def add(self):\n",
    "        print(\"addition is \",self.a+self.b+self.c)\n",
    "        print(\"value of b is: \",self.b)\n",
    "        \n",
    "        \n",
    "c=C()"
   ]
  },
  {
   "cell_type": "code",
   "execution_count": 50,
   "id": "95e5c29c",
   "metadata": {},
   "outputs": [
    {
     "name": "stdout",
     "output_type": "stream",
     "text": [
      "enter a value of a:2\n",
      "enter a value of b :3\n",
      "enter value of c: 4\n",
      "addition is  9\n",
      "value of b is:  3\n"
     ]
    }
   ],
   "source": [
    "c.geta()\n",
    "c.getb()\n",
    "c.getc()\n",
    "c.add()"
   ]
  },
  {
   "cell_type": "markdown",
   "id": "247908dd",
   "metadata": {},
   "source": [
    "## hierarchical inheritance"
   ]
  },
  {
   "cell_type": "code",
   "execution_count": 58,
   "id": "49bbffda",
   "metadata": {},
   "outputs": [],
   "source": [
    "class A:\n",
    "    def geta(self):\n",
    "        self.a=int(input(\"enter a value of a:\"))\n",
    "class B(A):\n",
    "    def getb(self):\n",
    "        self.b=int(input(\"enter a value of b :\"))\n",
    "    def add1(self):\n",
    "        print(\"Addition is : \",self.a+self.b)\n",
    "\n",
    "class C(A):\n",
    "    def getc(self):\n",
    "        self.c=int(input(\"enter value of c: \"))\n",
    "        \n",
    "    def add2(self):\n",
    "        print(\"addition is \",self.a+self.c)\n",
    "        print(\"value of a is: \",self.a)\n",
    "        \n",
    "        \n",
    "c=C()\n",
    "b=B()"
   ]
  },
  {
   "cell_type": "code",
   "execution_count": 59,
   "id": "d235ac6f",
   "metadata": {},
   "outputs": [
    {
     "name": "stdout",
     "output_type": "stream",
     "text": [
      "enter a value of a:3\n",
      "enter value of c: 4\n",
      "addition is  7\n",
      "value of a is:  3\n"
     ]
    }
   ],
   "source": [
    "c.geta()\n",
    "c.getc()\n",
    "c.add2()"
   ]
  },
  {
   "cell_type": "code",
   "execution_count": 60,
   "id": "e5af37ef",
   "metadata": {},
   "outputs": [
    {
     "name": "stdout",
     "output_type": "stream",
     "text": [
      "enter a value of a:2\n",
      "enter a value of b :3\n",
      "Addition is :  5\n"
     ]
    }
   ],
   "source": [
    "b.geta()\n",
    "b.getb()\n",
    "b.add1()"
   ]
  },
  {
   "cell_type": "code",
   "execution_count": 61,
   "id": "9f5a9cc5",
   "metadata": {},
   "outputs": [],
   "source": [
    "l=[2,3,4,5,6]\n",
    "l1=l\n"
   ]
  },
  {
   "cell_type": "code",
   "execution_count": 63,
   "id": "eb753ff2",
   "metadata": {},
   "outputs": [
    {
     "name": "stdout",
     "output_type": "stream",
     "text": [
      "[2, 3, 70, 70, 4, 5, 6]\n",
      "[2, 3, 70, 70, 4, 5, 6]\n"
     ]
    }
   ],
   "source": [
    "l1.insert(2,70)\n",
    "print(l1)\n",
    "print(l)   #deepcopy"
   ]
  },
  {
   "cell_type": "code",
   "execution_count": 64,
   "id": "3cdd5863",
   "metadata": {},
   "outputs": [
    {
     "name": "stdout",
     "output_type": "stream",
     "text": [
      "[2, 3, 70, 80, 70, 4, 5, 6]\n",
      "[2, 3, 70, 70, 4, 5, 6]\n"
     ]
    }
   ],
   "source": [
    "l2=l.copy()\n",
    "l2.insert(3,80)\n",
    "print(l2)\n",
    "print(l)  #shallow copy"
   ]
  },
  {
   "cell_type": "code",
   "execution_count": 80,
   "id": "3fb741cf",
   "metadata": {},
   "outputs": [
    {
     "name": "stdout",
     "output_type": "stream",
     "text": [
      "{1, 2, 3}\n",
      "{1, 2, 3, 4, 6}\n",
      "[1, 2, 2, 1, 3, 4, 3, 6]\n"
     ]
    }
   ],
   "source": [
    "l=[1,2,2,1,3,4,3,6]\n",
    "#o/p l=[1,2,3]\n",
    "rvalue=set()\n",
    "univalue=set()\n",
    "for i in l:\n",
    "    if i in univalue :\n",
    "        rvalue.add(i)\n",
    "    else:\n",
    "        univalue.add(i)\n",
    "\n",
    "print(rvalue)\n",
    "print(univalue)\n",
    "print(l)\n",
    "#mam solved \n",
    "s=set(l)\n",
    "l1=[]\n",
    "for i in s:\n",
    "    if l.count(i)>1:\n",
    "        l1.append(i)\n",
    "print(l1)"
   ]
  },
  {
   "cell_type": "code",
   "execution_count": 92,
   "id": "e5698aea",
   "metadata": {},
   "outputs": [
    {
     "name": "stdout",
     "output_type": "stream",
     "text": [
      "{1: 2, 2: 2, 3: 2, 4: 1, 6: 1}\n"
     ]
    }
   ],
   "source": [
    "l=[1,2,2,1,3,4,3,6]\n",
    "#o/p {1:2,2:2,3:1,4:1,6:1}\n",
    "l = [1, 2, 2, 1, 3, 4, 3, 6]\n",
    "\n",
    "c = {}\n",
    "\n",
    "# Iterate through the list\n",
    "for element in l:\n",
    "    # Check if the element is already in the dictionary\n",
    "    if element in c:\n",
    "        # Increment the count if the element is present\n",
    "        c[element] += 1\n",
    "    else:\n",
    "        # Add the element to the dictionary with a count of 1 if not present\n",
    "        c[element] = 1\n",
    "\n",
    "# Print the result\n",
    "print(c)\n"
   ]
  },
  {
   "cell_type": "code",
   "execution_count": 85,
   "id": "f50a2e59",
   "metadata": {},
   "outputs": [
    {
     "name": "stdout",
     "output_type": "stream",
     "text": [
      "{'a': 12, 'b': 15}\n"
     ]
    }
   ],
   "source": [
    "d={\"name\":['a','b'],\"Age\":[12,15]}\n",
    "#o/p {'a':12,'b':15}\n",
    "d1=dict(zip(d[\"name\"],d[\"Age\"]))\n",
    "print(d1)"
   ]
  },
  {
   "cell_type": "code",
   "execution_count": null,
   "id": "4e39796a",
   "metadata": {},
   "outputs": [],
   "source": []
  }
 ],
 "metadata": {
  "kernelspec": {
   "display_name": "Python 3 (ipykernel)",
   "language": "python",
   "name": "python3"
  },
  "language_info": {
   "codemirror_mode": {
    "name": "ipython",
    "version": 3
   },
   "file_extension": ".py",
   "mimetype": "text/x-python",
   "name": "python",
   "nbconvert_exporter": "python",
   "pygments_lexer": "ipython3",
   "version": "3.11.5"
  }
 },
 "nbformat": 4,
 "nbformat_minor": 5
}
